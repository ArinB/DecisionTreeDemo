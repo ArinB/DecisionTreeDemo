{
 "cells": [
  {
   "cell_type": "markdown",
   "metadata": {},
   "source": [
    "## Lift Chart Visualization "
   ]
  },
  {
   "cell_type": "markdown",
   "metadata": {},
   "source": [
    "This notebook shows you how to visualize the lift chart in Python. "
   ]
  },
  {
   "cell_type": "code",
   "execution_count": 1,
   "metadata": {},
   "outputs": [],
   "source": [
    "import sklearn.metrics\n",
    "import pandas as pd "
   ]
  },
  {
   "cell_type": "markdown",
   "metadata": {},
   "source": [
    "Creating the cumulative gains calculation function "
   ]
  },
  {
   "cell_type": "code",
   "execution_count": 4,
   "metadata": {},
   "outputs": [],
   "source": [
    "def calc_cumulative_gains(df: pd.DataFrame, actual_col: str, predicted_col: str, probability_col: str):\n",
    "    \n",
    "    df.sort_values(by=probability_col, ascending= False, implace= True)\n",
    "    subset = df[df[predicted_col] == True]\n",
    "    \n",
    "    rows = []\n",
    "    for group in np.array_split(subset, 10):\n",
    "        score = sklearn.metrics.accuracy_score(group[actual_col].tolist(), group[predicted_col].tolist(), normalize=False)\n",
    "        rows.append({'NumCases': len(group), 'NumCorrectPredictions': score})\n",
    "    \n",
    "    lift = pd.DataFrame(rows)\n",
    "    # Doing the Calculation of Cumulative Gains within the Dataframe\n",
    "    \n",
    "    lift['RunningCorrect'] = lift['NumCorrectPredictions'].cumsum()\n",
    "    lift['PercentCorrect'] = lift.apply(\n",
    "        lambda x: (100 / lift['NumCorrectPredictions'].sum())* x['RunningCorrect'], axis=1)\n",
    "    lift['CumulativeCorrectBaseCase'] = lift['NumCases'].cumsum()\n",
    "    lift['PercentCorrectBestCase'] = lift['CumulativeCorrectBaseCase'].apply(\n",
    "        lambda x: 100 if (100 / lift['NumCorrectPredictions'].sum()) * x > 100 \n",
    "                      else (100 / lift['NumCorrectPredictions'].sum()) * x)\n",
    "    lift['AvgCase'] = lift['NumCorrectPredictions'].sum() / len(lift)\n",
    "    lift['CumulativeAvgCase'] = lift['AvgCase'].cumsum()\n",
    "    lift['PercentAvgCase'] = lift['CumulativeAvgCase'].apply(\n",
    "        lambda x: (100 / lift['NumCorrectPredictions'].sum()) * x)\n",
    "    \n",
    "    # Constructing the Lift Chart \n",
    "    \n",
    "    lift['NormalisedPercentAvg'] = 1\n",
    "    lift['NormalisedPercentWithModel'] = lift['PercentCorrect'] / lift['PercentAvgCase']\n",
    "    \n",
    "    return lift "
   ]
  },
  {
   "cell_type": "markdown",
   "metadata": {},
   "source": []
  }
 ],
 "metadata": {
  "kernelspec": {
   "display_name": "Python 3",
   "language": "python",
   "name": "python3"
  },
  "language_info": {
   "codemirror_mode": {
    "name": "ipython",
    "version": 3
   },
   "file_extension": ".py",
   "mimetype": "text/x-python",
   "name": "python",
   "nbconvert_exporter": "python",
   "pygments_lexer": "ipython3",
   "version": "3.6.4"
  }
 },
 "nbformat": 4,
 "nbformat_minor": 2
}
